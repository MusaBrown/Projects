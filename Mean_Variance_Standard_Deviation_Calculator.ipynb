{
  "nbformat": 4,
  "nbformat_minor": 0,
  "metadata": {
    "colab": {
      "provenance": [],
      "authorship_tag": "ABX9TyMDnAxoHViQfDA3k/IsEgrI",
      "include_colab_link": true
    },
    "kernelspec": {
      "name": "python3",
      "display_name": "Python 3"
    },
    "language_info": {
      "name": "python"
    }
  },
  "cells": [
    {
      "cell_type": "markdown",
      "metadata": {
        "id": "view-in-github",
        "colab_type": "text"
      },
      "source": [
        "<a href=\"https://colab.research.google.com/github/MusaBrown/test-colab/blob/main/Mean_Variance_Standard_Deviation_Calculator.ipynb\" target=\"_parent\"><img src=\"https://colab.research.google.com/assets/colab-badge.svg\" alt=\"Open In Colab\"/></a>"
      ]
    },
    {
      "cell_type": "code",
      "source": [
        "import numpy as np\n",
        "\n",
        "def calculate(numbers):\n",
        "    if len(numbers) != 9:\n",
        "        raise ValueError(\"List must contain nine numbers.\")\n",
        "\n",
        "    matrix = np.array(numbers).reshape(3, 3)\n",
        "\n",
        "    result = {\n",
        "        'mean': [matrix.mean(axis=0).tolist(), matrix.mean(axis=1).tolist(), matrix.mean().tolist()],\n",
        "        'variance': [matrix.var(axis=0).tolist(), matrix.var(axis=1).tolist(), matrix.var().tolist()],\n",
        "        'standard deviation': [matrix.std(axis=0).tolist(), matrix.std(axis=1).tolist(), matrix.std().tolist()],\n",
        "        'max': [matrix.max(axis=0).tolist(), matrix.max(axis=1).tolist(), matrix.max().tolist()],\n",
        "        'min': [matrix.min(axis=0).tolist(), matrix.min(axis=1).tolist(), matrix.min().tolist()],\n",
        "        'sum': [matrix.sum(axis=0).tolist(), matrix.sum(axis=1).tolist(), matrix.sum().tolist()]\n",
        "    }\n",
        "\n",
        "    return result\n",
        "\n",
        "def main():\n",
        "    numbers = []\n",
        "    for i in range(9):\n",
        "        num = float(input(\"Enter number {}: \".format(i + 1)))\n",
        "        numbers.append(num)\n",
        "\n",
        "    try:\n",
        "        result = calculate(numbers)\n",
        "        for key, value in result.items():\n",
        "            print(key + \":\")\n",
        "            for item in value:\n",
        "                print(item)\n",
        "            print()\n",
        "    except ValueError as e:\n",
        "        print(e)\n",
        "\n",
        "if __name__ == \"__main__\":\n",
        "    main()\n",
        "87\n",
        "2"
      ],
      "metadata": {
        "colab": {
          "base_uri": "https://localhost:8080/"
        },
        "id": "NMH2XLRSzqcC",
        "outputId": "935cf4e1-0774-44f5-d231-cbac50cd0a1a"
      },
      "execution_count": 8,
      "outputs": [
        {
          "output_type": "stream",
          "name": "stdout",
          "text": [
            "Enter number 1: 5\n",
            "Enter number 2: 2\n",
            "Enter number 3: 3\n",
            "Enter number 4: 8\n",
            "Enter number 5: 9\n",
            "Enter number 6: 6\n",
            "Enter number 7: 1\n",
            "Enter number 8: 81\n",
            "Enter number 9: 25\n",
            "mean:\n",
            "[4.666666666666667, 30.666666666666668, 11.333333333333334]\n",
            "[3.3333333333333335, 7.666666666666667, 35.666666666666664]\n",
            "15.555555555555555\n",
            "\n",
            "variance:\n",
            "[8.222222222222221, 1274.8888888888887, 94.8888888888889]\n",
            "[1.5555555555555556, 1.5555555555555554, 1123.5555555555554]\n",
            "580.9135802469135\n",
            "\n",
            "standard deviation:\n",
            "[2.8674417556808756, 35.70558624205586, 9.741092797468305]\n",
            "[1.247219128924647, 1.247219128924647, 33.51948023993742]\n",
            "24.102148871976404\n",
            "\n",
            "max:\n",
            "[8.0, 81.0, 25.0]\n",
            "[5.0, 9.0, 81.0]\n",
            "81.0\n",
            "\n",
            "min:\n",
            "[1.0, 2.0, 3.0]\n",
            "[2.0, 6.0, 1.0]\n",
            "1.0\n",
            "\n",
            "sum:\n",
            "[14.0, 92.0, 34.0]\n",
            "[10.0, 23.0, 107.0]\n",
            "140.0\n",
            "\n"
          ]
        },
        {
          "output_type": "execute_result",
          "data": {
            "text/plain": [
              "87"
            ]
          },
          "metadata": {},
          "execution_count": 8
        }
      ]
    }
  ]
}