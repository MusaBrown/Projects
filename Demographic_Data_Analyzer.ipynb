{
  "nbformat": 4,
  "nbformat_minor": 0,
  "metadata": {
    "colab": {
      "provenance": [],
      "toc_visible": true,
      "authorship_tag": "ABX9TyOliNOUj7QwSejK/XstcVuA",
      "include_colab_link": true
    },
    "kernelspec": {
      "name": "python3",
      "display_name": "Python 3"
    },
    "language_info": {
      "name": "python"
    }
  },
  "cells": [
    {
      "cell_type": "markdown",
      "metadata": {
        "id": "view-in-github",
        "colab_type": "text"
      },
      "source": [
        "<a href=\"https://colab.research.google.com/github/MusaBrown/test-colab/blob/main/Demographic_Data_Analyzer.ipynb\" target=\"_parent\"><img src=\"https://colab.research.google.com/assets/colab-badge.svg\" alt=\"Open In Colab\"/></a>"
      ]
    },
    {
      "cell_type": "code",
      "source": [
        "import csv\n",
        "\n",
        "# Data\n",
        "data = [\n",
        "    [39, 'State-gov', 77516, 'Bachelors', 13, 'Never-married', 'Adm-clerical', 'Not-in-family', 'White', 'Male', 2174, 0, 40, 'United-States', '<=50K'],\n",
        "    [50, 'Self-emp-not-inc', 83311, 'Bachelors', 13, 'Married-civ-spouse', 'Exec-managerial', 'Husband', 'White', 'Male', 0, 0, 13, 'United-States', '<=50K'],\n",
        "    [38, 'Private', 215646, 'HS-grad', 9, 'Divorced', 'Handlers-cleaners', 'Not-in-family', 'White', 'Male', 0, 0, 40, 'United-States', '<=50K'],\n",
        "    [53, 'Private', 234721, '11th', 7, 'Married-civ-spouse', 'Handlers-cleaners', 'Husband', 'Black', 'Male', 0, 0, 40, 'United-States', '<=50K'],\n",
        "    [28, 'Private', 338409, 'Bachelors', 13, 'Married-civ-spouse', 'Prof-specialty', 'Wife', 'Black', 'Female', 0, 0, 40, 'Cuba', '<=50K']\n",
        "]\n",
        "\n",
        "# Field names\n",
        "field_names = ['age', 'workclass', 'fnlwgt', 'education', 'education-num', 'marital-status', 'occupation', 'relationship', 'race', 'sex', 'capital-gain', 'capital-loss', 'hours-per-week', 'native-country', 'salary']\n",
        "\n",
        "# Write to CSV\n",
        "with open('census_data.csv', mode='w', newline='') as file:\n",
        "    writer = csv.writer(file)\n",
        "    writer.writerow(field_names)  # Write header\n",
        "    writer.writerows(data)        # Write data rows\n",
        "\n",
        "print(\"CSV file 'census_data.csv' has been created successfully.\")\n"
      ],
      "metadata": {
        "colab": {
          "base_uri": "https://localhost:8080/"
        },
        "id": "OO2iQlM538ia",
        "outputId": "de9017ca-2a2a-41a3-ce12-312f4a94427d"
      },
      "execution_count": 8,
      "outputs": [
        {
          "output_type": "stream",
          "name": "stdout",
          "text": [
            "CSV file 'census_data.csv' has been created successfully.\n"
          ]
        }
      ]
    },
    {
      "cell_type": "code",
      "source": [
        "import pandas as pd\n",
        "\n",
        "# Load the dataset\n",
        "df = pd.read_csv(\"census_data.csv\")\n",
        "\n",
        "# How many people of each race are represented in this dataset?\n",
        "race_count = df['race'].value_counts()\n",
        "\n",
        "# What is the average age of men?\n",
        "average_age_men = df[df['sex'] == 'Male']['age'].mean()\n",
        "\n",
        "# What is the percentage of people who have a Bachelor's degree?\n",
        "percentage_bachelors = (df['education'] == 'Bachelors').mean() * 100\n",
        "\n",
        "# What percentage of people with advanced education make more than 50K?\n",
        "higher_education = df[df['education'].isin(['Bachelors', 'Masters', 'Doctorate'])]\n",
        "percentage_higher_education = (higher_education['salary'] == '>50K').mean() * 100\n",
        "\n",
        "# What percentage of people without advanced education make more than 50K?\n",
        "lower_education = df[~df['education'].isin(['Bachelors', 'Masters', 'Doctorate'])]\n",
        "percentage_lower_education = (lower_education['salary'] == '>50K').mean() * 100\n",
        "\n",
        "# What is the minimum number of hours a person works per week?\n",
        "min_work_hours = df['hours-per-week'].min()\n",
        "\n",
        "# What percentage of the people who work the minimum number of hours per week have a salary of more than 50K?\n",
        "num_min_workers = df[df['hours-per-week'] == min_work_hours]\n",
        "rich_percentage = (num_min_workers['salary'] == '>50K').mean() * 100\n",
        "\n",
        "# What country has the highest percentage of people that earn >50K and what is that percentage?\n",
        "try:\n",
        "    highest_earning_country = (df[df['salary'] == '>50K']['native-country']\n",
        "                               .value_counts(normalize=True)\n",
        "                               .idxmax(skipna=True))\n",
        "    highest_earning_country_percentage = (df[df['salary'] == '>50K']['native-country']\n",
        "                                          .value_counts(normalize=True)\n",
        "                                          .max() * 100)\n",
        "except ValueError:\n",
        "    highest_earning_country = None\n",
        "    highest_earning_country_percentage = None\n",
        "\n",
        "# Identify the most popular occupation for those who earn >50K in India\n",
        "try:\n",
        "    top_IN_occupation = (df[(df['native-country'] == 'India') & (df['salary'] == '>50K')]\n",
        "                         ['occupation'].value_counts().idxmax())\n",
        "except ValueError:\n",
        "    top_IN_occupation = None\n",
        "\n",
        "# Results\n",
        "print(\"1. Race count:\\n\", race_count)\n",
        "print(\"\\n2. Average age of men:\", round(average_age_men, 1))\n",
        "print(\"\\n3. Percentage with Bachelors:\", round(percentage_bachelors, 1))\n",
        "print(\"\\n4. Percentage with higher education earning >50K:\", round(percentage_higher_education, 1))\n",
        "print(\"\\n5. Percentage without higher education earning >50K:\", round(percentage_lower_education, 1))\n",
        "print(\"\\n6. Minimum work hours:\", min_work_hours)\n",
        "print(\"\\n7. Percentage of rich among those who work fewest hours:\", round(rich_percentage, 1))\n",
        "print(\"\\n8. Country with highest percentage of rich:\", highest_earning_country)\n",
        "if highest_earning_country:\n",
        "    print(\"   - Percentage:\", round(highest_earning_country_percentage, 1))\n",
        "else:\n",
        "    print(\"   - No data available for the given condition.\")\n",
        "print(\"\\n9. Most popular occupation in India among those earning >50K:\", top_IN_occupation if top_IN_occupation else \"No data available\")\n"
      ],
      "metadata": {
        "colab": {
          "base_uri": "https://localhost:8080/"
        },
        "id": "F3FOnIVN3f_p",
        "outputId": "620ad89d-deb0-4672-842b-d7f7f55ae74d"
      },
      "execution_count": 9,
      "outputs": [
        {
          "output_type": "stream",
          "name": "stdout",
          "text": [
            "1. Race count:\n",
            " White    3\n",
            "Black    2\n",
            "Name: race, dtype: int64\n",
            "\n",
            "2. Average age of men: 45.0\n",
            "\n",
            "3. Percentage with Bachelors: 60.0\n",
            "\n",
            "4. Percentage with higher education earning >50K: 0.0\n",
            "\n",
            "5. Percentage without higher education earning >50K: 0.0\n",
            "\n",
            "6. Minimum work hours: 13\n",
            "\n",
            "7. Percentage of rich among those who work fewest hours: 0.0\n",
            "\n",
            "8. Country with highest percentage of rich: None\n",
            "   - No data available for the given condition.\n",
            "\n",
            "9. Most popular occupation in India among those earning >50K: No data available\n"
          ]
        }
      ]
    }
  ]
}