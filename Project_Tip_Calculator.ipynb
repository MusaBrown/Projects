{
  "nbformat": 4,
  "nbformat_minor": 0,
  "metadata": {
    "colab": {
      "provenance": [],
      "name": "Project: Tip Calculator",
      "authorship_tag": "ABX9TyMLrhQAqsfC3vUrjVGlVOLL",
      "include_colab_link": true
    },
    "kernelspec": {
      "name": "python3",
      "display_name": "Python 3"
    },
    "language_info": {
      "name": "python"
    }
  },
  "cells": [
    {
      "cell_type": "markdown",
      "metadata": {
        "id": "view-in-github",
        "colab_type": "text"
      },
      "source": [
        "<a href=\"https://colab.research.google.com/github/MusaBrown/test-colab/blob/main/Project_Tip_Calculator.ipynb\" target=\"_parent\"><img src=\"https://colab.research.google.com/assets/colab-badge.svg\" alt=\"Open In Colab\"/></a>"
      ]
    },
    {
      "cell_type": "code",
      "execution_count": null,
      "metadata": {
        "colab": {
          "base_uri": "https://localhost:8080/"
        },
        "id": "Cj6eTEzJovhf",
        "outputId": "3ad614b0-d1a7-401c-ca9f-7af100476563"
      },
      "outputs": [
        {
          "output_type": "stream",
          "name": "stdout",
          "text": [
            "Welcome to the tip calculator\n",
            "What was the total bill? R150\n",
            "What percentage of a tip would you like to give? 10,12,15 : 10\n",
            "How many people to split the bill? : 5\n",
            "Each person should paey 33.0\n"
          ]
        }
      ],
      "source": [
        "#Tip calculator\n",
        "\n",
        "print(\"Welcome to the tip calculator\")\n",
        "bill = float(input(\"What was the total bill? R\"))\n",
        "tip = int(input(\"What percentage of a tip would you like to give? 10,12,15 : \"))\n",
        "people = int(input(\"How many people to split the bill? : \"))\n",
        "tip_with_percent = tip / 100\n",
        "total_tip_amount = bill * tip_with_percent\n",
        "total_bill = bill + total_tip_amount\n",
        "bill_per_person = total_bill / people\n",
        "final_amount = round(bill_per_person,2)\n",
        "print(f\"Each person should paey {final_amount}\")"
      ]
    }
  ]
}